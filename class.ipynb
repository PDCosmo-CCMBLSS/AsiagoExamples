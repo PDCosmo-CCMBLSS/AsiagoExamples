{
 "cells": [
  {
   "cell_type": "markdown",
   "id": "992b4348",
   "metadata": {},
   "source": [
    "# Setup"
   ]
  },
  {
   "cell_type": "code",
   "execution_count": null,
   "id": "72267b41",
   "metadata": {},
   "outputs": [],
   "source": [
    "import numpy as np\n",
    "import matplotlib.pyplot as plt\n",
    "from classy import Class"
   ]
  },
  {
   "cell_type": "code",
   "execution_count": null,
   "id": "d61fbd3b",
   "metadata": {},
   "outputs": [],
   "source": [
    "%matplotlib inline\n",
    "\n",
    "plt.rcParams.update({\n",
    "    \"text.usetex\": True,\n",
    "    \"font.family\": \"Helvetica\"\n",
    "})"
   ]
  },
  {
   "cell_type": "markdown",
   "id": "aaaa6b19",
   "metadata": {},
   "source": [
    "# Run class"
   ]
  },
  {
   "cell_type": "markdown",
   "id": "99a0a4df",
   "metadata": {},
   "source": [
    "Set parameters"
   ]
  },
  {
   "cell_type": "code",
   "execution_count": null,
   "id": "4bb4b799",
   "metadata": {},
   "outputs": [],
   "source": [
    "cosmo_pars = {\n",
    "    'A_s' : 2.22e-9,\n",
    "    'n_s' : 0.97,\n",
    "    'h' : 0.6777,\n",
    "    'omega_cdm': 0.12,\n",
    "    'omega_b': 0.022,\n",
    "}\n",
    "\n",
    "run_pars = {\n",
    "    'output' : 'tCl, mPk',\n",
    "}\n",
    "\n",
    "\n",
    "C = Class()\n",
    "C.set(cosmo_pars)\n",
    "C.set(run_pars)"
   ]
  },
  {
   "cell_type": "markdown",
   "id": "90f8a87a",
   "metadata": {},
   "source": [
    "Run CLASS"
   ]
  },
  {
   "cell_type": "code",
   "execution_count": null,
   "id": "66cb4225",
   "metadata": {},
   "outputs": [],
   "source": [
    "C.compute()"
   ]
  },
  {
   "cell_type": "markdown",
   "id": "304e94fe",
   "metadata": {},
   "source": [
    "Get output"
   ]
  },
  {
   "cell_type": "code",
   "execution_count": null,
   "id": "1c6feee3",
   "metadata": {},
   "outputs": [],
   "source": [
    "cls = C.raw_cl()\n",
    "\n",
    "Pk = {'k_in_h/Mpc' : np.logspace(-4, -.5, 1000)}\n",
    "Pk['matter'] = [C.pk(k*cosmo_pars['h'], 0.)* cosmo_pars['h']**3 for k in Pk['k_in_h/Mpc']]"
   ]
  },
  {
   "cell_type": "markdown",
   "id": "52cc16a2",
   "metadata": {},
   "source": [
    "Can get a lot of other stuff"
   ]
  },
  {
   "cell_type": "code",
   "execution_count": null,
   "id": "88d987dc",
   "metadata": {},
   "outputs": [],
   "source": [
    "dir(C)"
   ]
  },
  {
   "cell_type": "markdown",
   "id": "cf09a336",
   "metadata": {},
   "source": [
    "# Plot"
   ]
  },
  {
   "cell_type": "code",
   "execution_count": null,
   "id": "6d111384",
   "metadata": {},
   "outputs": [],
   "source": [
    "plt.plot(cls['ell'], cls['tt']*cls['ell']*(cls['ell']+1)/(2.*np.pi))\n",
    "\n",
    "#plt.semilogx()\n",
    "plt.xlim(2,2500)\n",
    "plt.xlabel(r\"$\\ell$\")\n",
    "plt.ylabel(r\"$\\mathcal{D}_\\ell^{\\Theta\\Theta}$\")\n",
    "\n",
    "plt.show()"
   ]
  },
  {
   "cell_type": "code",
   "execution_count": null,
   "id": "7602a06a",
   "metadata": {},
   "outputs": [],
   "source": [
    "plt.plot(Pk['k_in_h/Mpc'], Pk['matter'])\n",
    "\n",
    "plt.loglog()\n",
    "\n",
    "plt.xlim(1.e-3, 3.e-1)\n",
    "plt.xlabel(r\"$k \\ [h/\\mathrm{Mpc}]$\")\n",
    "plt.ylabel(r\"$P_m(k)  \\ [\\mathrm{Mpc}^3 / h^3]$\")\n",
    "\n",
    "plt.show()"
   ]
  }
 ],
 "metadata": {
  "interpreter": {
   "hash": "aee8b7b246df8f9039afb4144a1f6fd8d2ca17a180786b69acc140d282b71a49"
  },
  "kernelspec": {
   "display_name": "Python 3 (ipykernel)",
   "language": "python",
   "name": "python3"
  },
  "language_info": {
   "codemirror_mode": {
    "name": "ipython",
    "version": 3
   },
   "file_extension": ".py",
   "mimetype": "text/x-python",
   "name": "python",
   "nbconvert_exporter": "python",
   "pygments_lexer": "ipython3",
   "version": "3.7.9"
  }
 },
 "nbformat": 4,
 "nbformat_minor": 5
}
