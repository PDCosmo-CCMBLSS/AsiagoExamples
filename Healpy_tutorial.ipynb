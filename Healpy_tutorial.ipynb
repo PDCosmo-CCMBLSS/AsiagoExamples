{
 "cells": [
  {
   "cell_type": "code",
   "execution_count": null,
   "id": "571ca5f1",
   "metadata": {},
   "outputs": [],
   "source": [
    "# part of the notebook is adapted from A. Zonca https://nbviewer.org/gist/zonca/6187504"
   ]
  },
  {
   "cell_type": "code",
   "execution_count": null,
   "id": "2dbcefb1",
   "metadata": {},
   "outputs": [],
   "source": [
    "import numpy as np\n",
    "import healpy as hp\n",
    "from scipy.interpolate import interp1d\n",
    "\n",
    "import matplotlib.pyplot as plt\n",
    "\n",
    "from PIL import Image\n",
    "from matplotlib.image import pil_to_array"
   ]
  },
  {
   "cell_type": "code",
   "execution_count": null,
   "id": "4b525b94",
   "metadata": {},
   "outputs": [],
   "source": [
    "%matplotlib inline"
   ]
  },
  {
   "cell_type": "code",
   "execution_count": null,
   "id": "1beb777f",
   "metadata": {},
   "outputs": [],
   "source": [
    "n_side = 2\n",
    "n_pix = hp.nside2npix(n_side)\n",
    "approx_res_in_arcmin = hp.nside2resol(n_side, arcmin=True)\n",
    "\n",
    "print(\"n_side = %i\\nn_pixel = %i\\napproximate resolution = %f arcmin\" % (n_side, n_pix, approx_res_in_arcmin))\n",
    "\n",
    "values_of_pixels = np.arange(n_pix)\n",
    "\n",
    "hp.mollview(values_of_pixels, title=\"Healpix pixellization\")\n",
    "plt.show()"
   ]
  },
  {
   "cell_type": "code",
   "execution_count": null,
   "id": "02a08cab",
   "metadata": {},
   "outputs": [],
   "source": [
    "n_side = 512\n",
    "n_pix = hp.nside2npix(n_side)\n",
    "approx_res_in_arcmin = hp.nside2resol(n_side, arcmin=True)\n",
    "\n",
    "print(\"n_side = %i\\nn_pixel = %i\\napproximate resolution = %f arcmin\" % (n_side, n_pix, approx_res_in_arcmin))\n",
    "\n",
    "Asiago_position = hp.ang2vec(np.radians(44), np.radians(12))\n",
    "large_ipix_disc = hp.query_disc(nside=n_side, vec=Asiago_position, radius=np.radians(7))\n",
    "small_ipix_disc = hp.query_disc(nside=n_side, vec=Asiago_position, radius=np.radians(5))\n",
    "ipix_disc = res = list(set(large_ipix_disc)^set(small_ipix_disc))\n",
    "\n",
    "# Earth image extracted from basemap:\n",
    "# https://github.com/matplotlib/basemap/blob/master/lib/mpl_toolkits/basemap/data/shadedrelief.jpg\n",
    "grayscale_pil_image = Image.open(\"./shadedrelief.jpg\").convert(\"L\")\n",
    "image_array = pil_to_array(grayscale_pil_image)\n",
    "\n",
    "theta = np.linspace(0, np.pi, num=image_array.shape[0])[:, None]\n",
    "phi = np.linspace(-np.pi, np.pi, num=image_array.shape[1])\n",
    "pix = hp.ang2pix(n_side, theta, phi)\n",
    "\n",
    "\n",
    "\n",
    "values_of_pixels = np.zeros(hp.nside2npix(n_side), dtype=np.double)\n",
    "values_of_pixels[pix] = image_array\n",
    "\n",
    "values_of_pixels[ipix_disc] = values_of_pixels.max()*1.1\n",
    "\n",
    "hp.mollview(values_of_pixels, title=\"Position of Asiago\", flip=\"geo\")\n",
    "plt.show()\n",
    "\n",
    "values_of_pixels_smoothed = hp.smoothing(values_of_pixels, fwhm=np.radians(10.))\n",
    "\n",
    "hp.mollview(values_of_pixels_smoothed, title=\"Same but smoothed\", flip=\"geo\")\n",
    "plt.show()\n",
    "\n",
    "hp.gnomview(values_of_pixels, rot=(12.5, 41.9), reso=.5, xsize=1600, title=\"Gnomonic projection of Italy\", flip=\"geo\")\n",
    "plt.show()"
   ]
  },
  {
   "cell_type": "code",
   "execution_count": null,
   "id": "fe12de4f",
   "metadata": {},
   "outputs": [],
   "source": [
    "cl = hp.anafast(values_of_pixels, lmax=1024)\n",
    "cl_smoothed = hp.anafast(values_of_pixels_smoothed, lmax=1024)\n",
    "ell = np.arange(len(cl))"
   ]
  },
  {
   "cell_type": "code",
   "execution_count": null,
   "id": "3025df5c",
   "metadata": {},
   "outputs": [],
   "source": [
    "plt.plot(ell, ell * (ell + 1) * cl/(2.*np.pi), label=\"raw\")\n",
    "plt.plot(ell, ell * (ell + 1) * cl_smoothed/(2.*np.pi), label=\"smoothed\")\n",
    "plt.xlabel(\"$\\ell$\")\n",
    "plt.ylabel(\"$\\ell(\\ell+1)C_{\\ell}/(2\\pi)$\")\n",
    "plt.grid()\n",
    "plt.legend(frameon=False)\n",
    "plt.loglog()\n",
    "plt.xlim(0,1000)\n",
    "plt.ylim(1., 1.e3)\n",
    "hp.write_cl(\"cl.fits\", cl, overwrite=True)"
   ]
  },
  {
   "cell_type": "code",
   "execution_count": null,
   "id": "abb4568e",
   "metadata": {},
   "outputs": [],
   "source": []
  }
 ],
 "metadata": {
  "kernelspec": {
   "display_name": "Python 3 (ipykernel)",
   "language": "python",
   "name": "python3"
  },
  "language_info": {
   "codemirror_mode": {
    "name": "ipython",
    "version": 3
   },
   "file_extension": ".py",
   "mimetype": "text/x-python",
   "name": "python",
   "nbconvert_exporter": "python",
   "pygments_lexer": "ipython3",
   "version": "3.7.9"
  }
 },
 "nbformat": 4,
 "nbformat_minor": 5
}
